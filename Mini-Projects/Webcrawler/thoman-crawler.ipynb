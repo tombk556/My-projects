{
 "cells": [
  {
   "cell_type": "code",
   "execution_count": 1,
   "metadata": {},
   "outputs": [],
   "source": [
    "import requests\n",
    "from bs4 import BeautifulSoup\n",
    "from urllib.parse import urljoin\n",
    "import time \n",
    "import numpy as pd \n",
    "import pandas as pd "
   ]
  },
  {
   "cell_type": "code",
   "execution_count": 3,
   "metadata": {},
   "outputs": [
    {
     "ename": "NameError",
     "evalue": "name 'i' is not defined",
     "output_type": "error",
     "traceback": [
      "\u001b[0;31m---------------------------------------------------------------------------\u001b[0m",
      "\u001b[0;31mNameError\u001b[0m                                 Traceback (most recent call last)",
      "\u001b[0;32m/var/folders/d_/brlfzfpj08j7n_w_tyhqt60m0000gn/T/ipykernel_72926/211622545.py\u001b[0m in \u001b[0;36m<module>\u001b[0;34m\u001b[0m\n\u001b[1;32m      3\u001b[0m \u001b[0mtitle\u001b[0m \u001b[0;34m=\u001b[0m \u001b[0;34m[\u001b[0m\u001b[0;34m]\u001b[0m\u001b[0;34m\u001b[0m\u001b[0;34m\u001b[0m\u001b[0m\n\u001b[1;32m      4\u001b[0m \u001b[0mavailability\u001b[0m \u001b[0;34m=\u001b[0m \u001b[0;34m[\u001b[0m\u001b[0;34m]\u001b[0m\u001b[0;34m\u001b[0m\u001b[0;34m\u001b[0m\u001b[0m\n\u001b[0;32m----> 5\u001b[0;31m \u001b[0murl\u001b[0m \u001b[0;34m=\u001b[0m \u001b[0;34mf'https://www.thomann.de/de/st-modelle.html?ls=25&pg={i}'\u001b[0m\u001b[0;34m\u001b[0m\u001b[0;34m\u001b[0m\u001b[0m\n\u001b[0m\u001b[1;32m      6\u001b[0m \u001b[0mr\u001b[0m \u001b[0;34m=\u001b[0m \u001b[0mrequests\u001b[0m\u001b[0;34m.\u001b[0m\u001b[0mget\u001b[0m\u001b[0;34m(\u001b[0m\u001b[0murl\u001b[0m\u001b[0;34m)\u001b[0m\u001b[0;34m\u001b[0m\u001b[0;34m\u001b[0m\u001b[0m\n\u001b[1;32m      7\u001b[0m \u001b[0mdoc\u001b[0m \u001b[0;34m=\u001b[0m \u001b[0mBeautifulSoup\u001b[0m\u001b[0;34m(\u001b[0m\u001b[0mr\u001b[0m\u001b[0;34m.\u001b[0m\u001b[0mtext\u001b[0m\u001b[0;34m,\u001b[0m \u001b[0;34m'html.parser'\u001b[0m\u001b[0;34m)\u001b[0m\u001b[0;34m\u001b[0m\u001b[0;34m\u001b[0m\u001b[0m\n",
      "\u001b[0;31mNameError\u001b[0m: name 'i' is not defined"
     ]
    }
   ],
   "source": [
    "price = []\n",
    "manufacturer = []\n",
    "title = []\n",
    "availability = []\n",
    "url = f'https://www.thomann.de/de/st-modelle.html?ls=25&pg={i}'\n",
    "r = requests.get(url)\n",
    "doc = BeautifulSoup(r.text, 'html.parser')\n",
    "products = doc.select('.product')\n",
    "ende = 57\n",
    "for i in range(1, ende):\n",
    "    url = f'https://www.thomann.de/de/st-modelle.html?ls=25&pg={i}'\n",
    "    time.sleep(1)\n",
    "    for product in doc.select('.product'):\n",
    "        #### append the product price\n",
    "        product_price = product.select_one(\".product__price span\").text\n",
    "        price.append(product_price)\n",
    "        #### append the manufactuer \n",
    "        produt_manufacturer = product.select_one(\".title__manufacturer\").text\n",
    "        manufacturer.append(produt_manufacturer)\n",
    "        #### append the title of the product\n",
    "        product_title = product.select_one(\".title__name\").text\n",
    "        title.append(product_title)\n",
    "        #### \n",
    "        product_ava = product.select_one(\".product__availability\").text\n",
    "        availability.append(product_ava)\n",
    "        \n",
    "\n",
    "price = [i.split()[0] for i in price]\n",
    "availability = [i.split() for i in availability]\n",
    "\n",
    "new = []\n",
    "for i in range(0, len(availability)):\n",
    "    new.append(' '.join(availability[i]))"
   ]
  },
  {
   "cell_type": "code",
   "execution_count": 130,
   "metadata": {},
   "outputs": [],
   "source": [
    "d = {'Marke': manufacturer, 'Titel': title, 'Price': price, 'Verfügbarkeit': new}\n",
    "\n",
    "df = pd.DataFrame(d)\n",
    "\n",
    "data = df.to_csv('thomann_data.csv')"
   ]
  }
 ],
 "metadata": {
  "interpreter": {
   "hash": "af69b09c4c773b169ccf5da0dec5f5683ca6633540d933d8345848aba04c8373"
  },
  "kernelspec": {
   "display_name": "Python 3.9.7 64-bit ('base': conda)",
   "language": "python",
   "name": "python3"
  },
  "language_info": {
   "codemirror_mode": {
    "name": "ipython",
    "version": 3
   },
   "file_extension": ".py",
   "mimetype": "text/x-python",
   "name": "python",
   "nbconvert_exporter": "python",
   "pygments_lexer": "ipython3",
   "version": "3.10.0"
  },
  "orig_nbformat": 4
 },
 "nbformat": 4,
 "nbformat_minor": 2
}
